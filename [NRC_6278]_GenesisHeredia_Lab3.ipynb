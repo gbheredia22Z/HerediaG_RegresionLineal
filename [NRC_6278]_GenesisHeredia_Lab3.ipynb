{
 "cells": [
  {
   "cell_type": "markdown",
   "id": "8b6f603c",
   "metadata": {},
   "source": [
    "<center><h1>Técnicas de Inteligencia Artificial</header1></center>"
   ]
  },
  {
   "cell_type": "markdown",
   "id": "3eb1aaac",
   "metadata": {},
   "source": [
    "Presentado por: Genesis Belen Heredia  <br>\n",
    "Fecha: 17/07/2022"
   ]
  },
  {
   "cell_type": "markdown",
   "id": "1dec299b",
   "metadata": {
    "ExecuteTime": {
     "end_time": "2022-03-14T15:14:04.930713Z",
     "start_time": "2022-03-14T15:14:04.921682Z"
    }
   },
   "source": [
    "# Importación de librerias necesarias"
   ]
  },
  {
   "cell_type": "code",
   "execution_count": 16,
   "id": "6d1abf7a",
   "metadata": {
    "ExecuteTime": {
     "end_time": "2022-03-14T15:14:46.228059Z",
     "start_time": "2022-03-14T15:14:46.223108Z"
    }
   },
   "outputs": [],
   "source": [
    "#Para esta actividad se importarán las siguientes librerías:\n",
    "#Se implementan las librerias para obtener los datos\n",
    "\n",
    "#Se realiza la importación de la libreria pandas\n",
    "import pandas as pd\n",
    "\n",
    "#Se realiza la importación de la libreria sklearn\n",
    "from sklearn.model_selection import train_test_split\n",
    "from sklearn import metrics\n",
    "\n",
    "#Se realiza la importación de la libreria statsmodels\n",
    "import statsmodels.api as smi\n",
    "\n",
    "#Se realiza la importación de la libreria necesaria para la regresión lineal\n",
    "from sklearn.linear_model import LinearRegression \n",
    "\n",
    "#Se realiza la importación de la libreria que permite realizar la grafica\n",
    "import matplotlib.pyplot as plt\n",
    "from sklearn.preprocessing import LabelEncoder"
   ]
  },
  {
   "cell_type": "markdown",
   "id": "6a44b924",
   "metadata": {},
   "source": [
    "## Cargar el Dataset"
   ]
  },
  {
   "cell_type": "code",
   "execution_count": 17,
   "id": "9f5b6fdb",
   "metadata": {},
   "outputs": [],
   "source": [
    "#Código para cargar Dataset\n",
    "#Se cargan los datos del Dataset mediante la libreria pandas\n",
    "FishLinear = pd.read_csv(\"Fish.csv\" )"
   ]
  },
  {
   "cell_type": "code",
   "execution_count": 20,
   "id": "3541e808",
   "metadata": {
    "scrolled": false
   },
   "outputs": [
    {
     "data": {
      "text/html": [
       "<div>\n",
       "<style scoped>\n",
       "    .dataframe tbody tr th:only-of-type {\n",
       "        vertical-align: middle;\n",
       "    }\n",
       "\n",
       "    .dataframe tbody tr th {\n",
       "        vertical-align: top;\n",
       "    }\n",
       "\n",
       "    .dataframe thead th {\n",
       "        text-align: right;\n",
       "    }\n",
       "</style>\n",
       "<table border=\"1\" class=\"dataframe\">\n",
       "  <thead>\n",
       "    <tr style=\"text-align: right;\">\n",
       "      <th></th>\n",
       "      <th>Species</th>\n",
       "      <th>Weight</th>\n",
       "      <th>Length1</th>\n",
       "      <th>Length2</th>\n",
       "      <th>Length3</th>\n",
       "      <th>Height</th>\n",
       "      <th>Width</th>\n",
       "    </tr>\n",
       "  </thead>\n",
       "  <tbody>\n",
       "    <tr>\n",
       "      <th>0</th>\n",
       "      <td>Bream</td>\n",
       "      <td>242.0</td>\n",
       "      <td>23.2</td>\n",
       "      <td>25.4</td>\n",
       "      <td>30.0</td>\n",
       "      <td>11.5200</td>\n",
       "      <td>4.0200</td>\n",
       "    </tr>\n",
       "    <tr>\n",
       "      <th>1</th>\n",
       "      <td>Bream</td>\n",
       "      <td>290.0</td>\n",
       "      <td>24.0</td>\n",
       "      <td>26.3</td>\n",
       "      <td>31.2</td>\n",
       "      <td>12.4800</td>\n",
       "      <td>4.3056</td>\n",
       "    </tr>\n",
       "    <tr>\n",
       "      <th>2</th>\n",
       "      <td>Bream</td>\n",
       "      <td>340.0</td>\n",
       "      <td>23.9</td>\n",
       "      <td>26.5</td>\n",
       "      <td>31.1</td>\n",
       "      <td>12.3778</td>\n",
       "      <td>4.6961</td>\n",
       "    </tr>\n",
       "    <tr>\n",
       "      <th>3</th>\n",
       "      <td>Bream</td>\n",
       "      <td>363.0</td>\n",
       "      <td>26.3</td>\n",
       "      <td>29.0</td>\n",
       "      <td>33.5</td>\n",
       "      <td>12.7300</td>\n",
       "      <td>4.4555</td>\n",
       "    </tr>\n",
       "    <tr>\n",
       "      <th>4</th>\n",
       "      <td>Bream</td>\n",
       "      <td>430.0</td>\n",
       "      <td>26.5</td>\n",
       "      <td>29.0</td>\n",
       "      <td>34.0</td>\n",
       "      <td>12.4440</td>\n",
       "      <td>5.1340</td>\n",
       "    </tr>\n",
       "    <tr>\n",
       "      <th>5</th>\n",
       "      <td>Bream</td>\n",
       "      <td>450.0</td>\n",
       "      <td>26.8</td>\n",
       "      <td>29.7</td>\n",
       "      <td>34.7</td>\n",
       "      <td>13.6024</td>\n",
       "      <td>4.9274</td>\n",
       "    </tr>\n",
       "    <tr>\n",
       "      <th>6</th>\n",
       "      <td>Bream</td>\n",
       "      <td>500.0</td>\n",
       "      <td>26.8</td>\n",
       "      <td>29.7</td>\n",
       "      <td>34.5</td>\n",
       "      <td>14.1795</td>\n",
       "      <td>5.2785</td>\n",
       "    </tr>\n",
       "    <tr>\n",
       "      <th>7</th>\n",
       "      <td>Bream</td>\n",
       "      <td>390.0</td>\n",
       "      <td>27.6</td>\n",
       "      <td>30.0</td>\n",
       "      <td>35.0</td>\n",
       "      <td>12.6700</td>\n",
       "      <td>4.6900</td>\n",
       "    </tr>\n",
       "    <tr>\n",
       "      <th>8</th>\n",
       "      <td>Bream</td>\n",
       "      <td>450.0</td>\n",
       "      <td>27.6</td>\n",
       "      <td>30.0</td>\n",
       "      <td>35.1</td>\n",
       "      <td>14.0049</td>\n",
       "      <td>4.8438</td>\n",
       "    </tr>\n",
       "    <tr>\n",
       "      <th>9</th>\n",
       "      <td>Bream</td>\n",
       "      <td>500.0</td>\n",
       "      <td>28.5</td>\n",
       "      <td>30.7</td>\n",
       "      <td>36.2</td>\n",
       "      <td>14.2266</td>\n",
       "      <td>4.9594</td>\n",
       "    </tr>\n",
       "    <tr>\n",
       "      <th>10</th>\n",
       "      <td>Bream</td>\n",
       "      <td>475.0</td>\n",
       "      <td>28.4</td>\n",
       "      <td>31.0</td>\n",
       "      <td>36.2</td>\n",
       "      <td>14.2628</td>\n",
       "      <td>5.1042</td>\n",
       "    </tr>\n",
       "    <tr>\n",
       "      <th>11</th>\n",
       "      <td>Bream</td>\n",
       "      <td>500.0</td>\n",
       "      <td>28.7</td>\n",
       "      <td>31.0</td>\n",
       "      <td>36.2</td>\n",
       "      <td>14.3714</td>\n",
       "      <td>4.8146</td>\n",
       "    </tr>\n",
       "    <tr>\n",
       "      <th>12</th>\n",
       "      <td>Bream</td>\n",
       "      <td>500.0</td>\n",
       "      <td>29.1</td>\n",
       "      <td>31.5</td>\n",
       "      <td>36.4</td>\n",
       "      <td>13.7592</td>\n",
       "      <td>4.3680</td>\n",
       "    </tr>\n",
       "    <tr>\n",
       "      <th>13</th>\n",
       "      <td>Bream</td>\n",
       "      <td>340.0</td>\n",
       "      <td>29.5</td>\n",
       "      <td>32.0</td>\n",
       "      <td>37.3</td>\n",
       "      <td>13.9129</td>\n",
       "      <td>5.0728</td>\n",
       "    </tr>\n",
       "    <tr>\n",
       "      <th>14</th>\n",
       "      <td>Bream</td>\n",
       "      <td>600.0</td>\n",
       "      <td>29.4</td>\n",
       "      <td>32.0</td>\n",
       "      <td>37.2</td>\n",
       "      <td>14.9544</td>\n",
       "      <td>5.1708</td>\n",
       "    </tr>\n",
       "  </tbody>\n",
       "</table>\n",
       "</div>"
      ],
      "text/plain": [
       "   Species  Weight  Length1  Length2  Length3   Height   Width\n",
       "0    Bream   242.0     23.2     25.4     30.0  11.5200  4.0200\n",
       "1    Bream   290.0     24.0     26.3     31.2  12.4800  4.3056\n",
       "2    Bream   340.0     23.9     26.5     31.1  12.3778  4.6961\n",
       "3    Bream   363.0     26.3     29.0     33.5  12.7300  4.4555\n",
       "4    Bream   430.0     26.5     29.0     34.0  12.4440  5.1340\n",
       "5    Bream   450.0     26.8     29.7     34.7  13.6024  4.9274\n",
       "6    Bream   500.0     26.8     29.7     34.5  14.1795  5.2785\n",
       "7    Bream   390.0     27.6     30.0     35.0  12.6700  4.6900\n",
       "8    Bream   450.0     27.6     30.0     35.1  14.0049  4.8438\n",
       "9    Bream   500.0     28.5     30.7     36.2  14.2266  4.9594\n",
       "10   Bream   475.0     28.4     31.0     36.2  14.2628  5.1042\n",
       "11   Bream   500.0     28.7     31.0     36.2  14.3714  4.8146\n",
       "12   Bream   500.0     29.1     31.5     36.4  13.7592  4.3680\n",
       "13   Bream   340.0     29.5     32.0     37.3  13.9129  5.0728\n",
       "14   Bream   600.0     29.4     32.0     37.2  14.9544  5.1708"
      ]
     },
     "execution_count": 20,
     "metadata": {},
     "output_type": "execute_result"
    }
   ],
   "source": [
    "#Se visualizan 10 registros\n",
    "FishLinear.head(15)"
   ]
  },
  {
   "cell_type": "markdown",
   "id": "05970088",
   "metadata": {},
   "source": [
    "## Preprocesamiento del dataset. Transformaciones previas necesarias para la modelación\n"
   ]
  },
  {
   "cell_type": "markdown",
   "id": "ff07f7c9",
   "metadata": {},
   "source": [
    "LabelEncoder"
   ]
  },
  {
   "cell_type": "code",
   "execution_count": 22,
   "id": "06f682bd",
   "metadata": {},
   "outputs": [],
   "source": [
    "#Transformación de las caracteristicas (mire el apartado Feature engineering del aula virtual)\n",
    "encoder = LabelEncoder()"
   ]
  },
  {
   "cell_type": "code",
   "execution_count": 24,
   "id": "5ec0d9a3",
   "metadata": {},
   "outputs": [],
   "source": [
    "FishLinear[\"Species\"] = encoder.fit_transform(FishLinear[\"Species\"])"
   ]
  },
  {
   "cell_type": "code",
   "execution_count": 25,
   "id": "731744e6",
   "metadata": {},
   "outputs": [
    {
     "data": {
      "text/html": [
       "<div>\n",
       "<style scoped>\n",
       "    .dataframe tbody tr th:only-of-type {\n",
       "        vertical-align: middle;\n",
       "    }\n",
       "\n",
       "    .dataframe tbody tr th {\n",
       "        vertical-align: top;\n",
       "    }\n",
       "\n",
       "    .dataframe thead th {\n",
       "        text-align: right;\n",
       "    }\n",
       "</style>\n",
       "<table border=\"1\" class=\"dataframe\">\n",
       "  <thead>\n",
       "    <tr style=\"text-align: right;\">\n",
       "      <th></th>\n",
       "      <th>Species</th>\n",
       "      <th>Weight</th>\n",
       "      <th>Length1</th>\n",
       "      <th>Length2</th>\n",
       "      <th>Length3</th>\n",
       "      <th>Height</th>\n",
       "      <th>Width</th>\n",
       "    </tr>\n",
       "  </thead>\n",
       "  <tbody>\n",
       "    <tr>\n",
       "      <th>0</th>\n",
       "      <td>0</td>\n",
       "      <td>242.0</td>\n",
       "      <td>23.2</td>\n",
       "      <td>25.4</td>\n",
       "      <td>30.0</td>\n",
       "      <td>11.5200</td>\n",
       "      <td>4.0200</td>\n",
       "    </tr>\n",
       "    <tr>\n",
       "      <th>1</th>\n",
       "      <td>0</td>\n",
       "      <td>290.0</td>\n",
       "      <td>24.0</td>\n",
       "      <td>26.3</td>\n",
       "      <td>31.2</td>\n",
       "      <td>12.4800</td>\n",
       "      <td>4.3056</td>\n",
       "    </tr>\n",
       "    <tr>\n",
       "      <th>2</th>\n",
       "      <td>0</td>\n",
       "      <td>340.0</td>\n",
       "      <td>23.9</td>\n",
       "      <td>26.5</td>\n",
       "      <td>31.1</td>\n",
       "      <td>12.3778</td>\n",
       "      <td>4.6961</td>\n",
       "    </tr>\n",
       "    <tr>\n",
       "      <th>3</th>\n",
       "      <td>0</td>\n",
       "      <td>363.0</td>\n",
       "      <td>26.3</td>\n",
       "      <td>29.0</td>\n",
       "      <td>33.5</td>\n",
       "      <td>12.7300</td>\n",
       "      <td>4.4555</td>\n",
       "    </tr>\n",
       "    <tr>\n",
       "      <th>4</th>\n",
       "      <td>0</td>\n",
       "      <td>430.0</td>\n",
       "      <td>26.5</td>\n",
       "      <td>29.0</td>\n",
       "      <td>34.0</td>\n",
       "      <td>12.4440</td>\n",
       "      <td>5.1340</td>\n",
       "    </tr>\n",
       "  </tbody>\n",
       "</table>\n",
       "</div>"
      ],
      "text/plain": [
       "   Species  Weight  Length1  Length2  Length3   Height   Width\n",
       "0        0   242.0     23.2     25.4     30.0  11.5200  4.0200\n",
       "1        0   290.0     24.0     26.3     31.2  12.4800  4.3056\n",
       "2        0   340.0     23.9     26.5     31.1  12.3778  4.6961\n",
       "3        0   363.0     26.3     29.0     33.5  12.7300  4.4555\n",
       "4        0   430.0     26.5     29.0     34.0  12.4440  5.1340"
      ]
     },
     "execution_count": 25,
     "metadata": {},
     "output_type": "execute_result"
    }
   ],
   "source": [
    "FishLinear.head()"
   ]
  },
  {
   "cell_type": "code",
   "execution_count": 26,
   "id": "b89bb51a",
   "metadata": {},
   "outputs": [
    {
     "data": {
      "text/html": [
       "<div>\n",
       "<style scoped>\n",
       "    .dataframe tbody tr th:only-of-type {\n",
       "        vertical-align: middle;\n",
       "    }\n",
       "\n",
       "    .dataframe tbody tr th {\n",
       "        vertical-align: top;\n",
       "    }\n",
       "\n",
       "    .dataframe thead th {\n",
       "        text-align: right;\n",
       "    }\n",
       "</style>\n",
       "<table border=\"1\" class=\"dataframe\">\n",
       "  <thead>\n",
       "    <tr style=\"text-align: right;\">\n",
       "      <th></th>\n",
       "      <th>Species</th>\n",
       "      <th>Weight</th>\n",
       "      <th>Length1</th>\n",
       "      <th>Length2</th>\n",
       "      <th>Length3</th>\n",
       "      <th>Height</th>\n",
       "      <th>Width</th>\n",
       "    </tr>\n",
       "  </thead>\n",
       "  <tbody>\n",
       "    <tr>\n",
       "      <th>count</th>\n",
       "      <td>159.000000</td>\n",
       "      <td>159.000000</td>\n",
       "      <td>159.000000</td>\n",
       "      <td>159.000000</td>\n",
       "      <td>159.000000</td>\n",
       "      <td>159.000000</td>\n",
       "      <td>159.000000</td>\n",
       "    </tr>\n",
       "    <tr>\n",
       "      <th>mean</th>\n",
       "      <td>2.264151</td>\n",
       "      <td>398.326415</td>\n",
       "      <td>26.247170</td>\n",
       "      <td>28.415723</td>\n",
       "      <td>31.227044</td>\n",
       "      <td>8.970994</td>\n",
       "      <td>4.417486</td>\n",
       "    </tr>\n",
       "    <tr>\n",
       "      <th>std</th>\n",
       "      <td>1.704249</td>\n",
       "      <td>357.978317</td>\n",
       "      <td>9.996441</td>\n",
       "      <td>10.716328</td>\n",
       "      <td>11.610246</td>\n",
       "      <td>4.286208</td>\n",
       "      <td>1.685804</td>\n",
       "    </tr>\n",
       "    <tr>\n",
       "      <th>min</th>\n",
       "      <td>0.000000</td>\n",
       "      <td>0.000000</td>\n",
       "      <td>7.500000</td>\n",
       "      <td>8.400000</td>\n",
       "      <td>8.800000</td>\n",
       "      <td>1.728400</td>\n",
       "      <td>1.047600</td>\n",
       "    </tr>\n",
       "    <tr>\n",
       "      <th>25%</th>\n",
       "      <td>1.000000</td>\n",
       "      <td>120.000000</td>\n",
       "      <td>19.050000</td>\n",
       "      <td>21.000000</td>\n",
       "      <td>23.150000</td>\n",
       "      <td>5.944800</td>\n",
       "      <td>3.385650</td>\n",
       "    </tr>\n",
       "    <tr>\n",
       "      <th>50%</th>\n",
       "      <td>2.000000</td>\n",
       "      <td>273.000000</td>\n",
       "      <td>25.200000</td>\n",
       "      <td>27.300000</td>\n",
       "      <td>29.400000</td>\n",
       "      <td>7.786000</td>\n",
       "      <td>4.248500</td>\n",
       "    </tr>\n",
       "    <tr>\n",
       "      <th>75%</th>\n",
       "      <td>3.500000</td>\n",
       "      <td>650.000000</td>\n",
       "      <td>32.700000</td>\n",
       "      <td>35.500000</td>\n",
       "      <td>39.650000</td>\n",
       "      <td>12.365900</td>\n",
       "      <td>5.584500</td>\n",
       "    </tr>\n",
       "    <tr>\n",
       "      <th>max</th>\n",
       "      <td>6.000000</td>\n",
       "      <td>1650.000000</td>\n",
       "      <td>59.000000</td>\n",
       "      <td>63.400000</td>\n",
       "      <td>68.000000</td>\n",
       "      <td>18.957000</td>\n",
       "      <td>8.142000</td>\n",
       "    </tr>\n",
       "  </tbody>\n",
       "</table>\n",
       "</div>"
      ],
      "text/plain": [
       "          Species       Weight     Length1     Length2     Length3  \\\n",
       "count  159.000000   159.000000  159.000000  159.000000  159.000000   \n",
       "mean     2.264151   398.326415   26.247170   28.415723   31.227044   \n",
       "std      1.704249   357.978317    9.996441   10.716328   11.610246   \n",
       "min      0.000000     0.000000    7.500000    8.400000    8.800000   \n",
       "25%      1.000000   120.000000   19.050000   21.000000   23.150000   \n",
       "50%      2.000000   273.000000   25.200000   27.300000   29.400000   \n",
       "75%      3.500000   650.000000   32.700000   35.500000   39.650000   \n",
       "max      6.000000  1650.000000   59.000000   63.400000   68.000000   \n",
       "\n",
       "           Height       Width  \n",
       "count  159.000000  159.000000  \n",
       "mean     8.970994    4.417486  \n",
       "std      4.286208    1.685804  \n",
       "min      1.728400    1.047600  \n",
       "25%      5.944800    3.385650  \n",
       "50%      7.786000    4.248500  \n",
       "75%     12.365900    5.584500  \n",
       "max     18.957000    8.142000  "
      ]
     },
     "execution_count": 26,
     "metadata": {},
     "output_type": "execute_result"
    }
   ],
   "source": [
    "#Función que permite describir el dataset\n",
    "FishLinear.describe()"
   ]
  },
  {
   "cell_type": "markdown",
   "id": "93c30410",
   "metadata": {},
   "source": [
    "## Descripción de la fuente del Dataset"
   ]
  },
  {
   "cell_type": "code",
   "execution_count": 27,
   "id": "8b7691b1",
   "metadata": {},
   "outputs": [
    {
     "name": "stdout",
     "output_type": "stream",
     "text": [
      "<class 'pandas.core.frame.DataFrame'>\n",
      "RangeIndex: 159 entries, 0 to 158\n",
      "Data columns (total 7 columns):\n",
      " #   Column   Non-Null Count  Dtype  \n",
      "---  ------   --------------  -----  \n",
      " 0   Species  159 non-null    int32  \n",
      " 1   Weight   159 non-null    float64\n",
      " 2   Length1  159 non-null    float64\n",
      " 3   Length2  159 non-null    float64\n",
      " 4   Length3  159 non-null    float64\n",
      " 5   Height   159 non-null    float64\n",
      " 6   Width    159 non-null    float64\n",
      "dtypes: float64(6), int32(1)\n",
      "memory usage: 8.2 KB\n"
     ]
    }
   ],
   "source": [
    "#Código que responde a la descripción anterior\n",
    "FishLinear.info()"
   ]
  },
  {
   "cell_type": "markdown",
   "id": "ebe1d7ba",
   "metadata": {},
   "source": [
    "***Descripción***\n",
    "\n",
    "Mediante el uso de la función info podemos deducir que existen 159 registros los cuales representan a diferentes caracteristicas de. El dataset cuenta con 7 campos donde se puede tomar como variable objetivo **(Weight)** y como variables de entrada:\n",
    "\n",
    "**Variables de entrada X** Variable Independiente\n",
    "\n",
    "**-->Species:** Representa el numero de la casa(Variable Continua)\n",
    "\n",
    "**-->Length1** Representa la fecha de compra (Variable continua)\n",
    "\n",
    "**-->Length2** Representa la edad que tiene el establecimiento (Variable Continua)\n",
    "\n",
    "**-->Length3** Representa la distancia a la estación MRT más cercana (Variable Continua)\n",
    "\n",
    "**-->Height** número de tiendas de conveniencia (Variable Continua)\n",
    "\n",
    "**-->Widht** Latitud (Variable continua)\n",
    "\n",
    "\n",
    "\n",
    "**Variable de salida Y** Variable Dependiente\n",
    "\n",
    "**--> Weight:** peso del pescado\n"
   ]
  },
  {
   "cell_type": "markdown",
   "id": "7f868eab",
   "metadata": {},
   "source": [
    "## Explique el problema a resolver. \n",
    "Descripción del problema. Tipo de problema (justifique). Variable objetivo, variables de entrada. Utilidad de su posible solución. Elementos adicionales que considere relevantes (no son necesarios contenidos teóricos, sino explicar qué relaciones tratas de comprobar y con qué métodos)."
   ]
  },
  {
   "cell_type": "markdown",
   "id": "a0b719c1",
   "metadata": {},
   "source": [
    "## Caracterización del Dataset\n",
    "\n",
    "Realice una descripción de los datos con:\n",
    "\n",
    ">- Número de instancias en total.\n",
    ">- Número de atributos de entrada, su significado y tipo.\n",
    ">- Estadísticas de la variable objetivo.\n",
    ">- Estadísticas los atributos en relación con la variable objetivo.\n"
   ]
  },
  {
   "cell_type": "code",
   "execution_count": 5,
   "id": "2f0ed5d2",
   "metadata": {},
   "outputs": [],
   "source": [
    "#Código que responde a la descripción anterior"
   ]
  },
  {
   "cell_type": "markdown",
   "id": "a7ab5e48",
   "metadata": {},
   "source": [
    "En un par de párrafos haga un resumen de los principales hallazagos encontrados:    "
   ]
  },
  {
   "cell_type": "markdown",
   "id": "49815fde",
   "metadata": {
    "ExecuteTime": {
     "end_time": "2022-03-14T15:56:34.366469Z",
     "start_time": "2022-03-14T15:56:34.358471Z"
    }
   },
   "source": [
    "## División del dataset en datos de entrenamiento y datos de test "
   ]
  },
  {
   "cell_type": "code",
   "execution_count": 5,
   "id": "6f26d21e",
   "metadata": {},
   "outputs": [],
   "source": [
    "#Código que realice la división en entrenamiento y test, de acuerdo con la estretgia de evaluación planeada. Describa cuál es.\n"
   ]
  },
  {
   "cell_type": "markdown",
   "id": "6319adad",
   "metadata": {},
   "source": [
    "## Regresión Lineal"
   ]
  },
  {
   "cell_type": "code",
   "execution_count": 6,
   "id": "d5d2b2c6",
   "metadata": {},
   "outputs": [],
   "source": [
    "#Códo del modelo"
   ]
  },
  {
   "cell_type": "code",
   "execution_count": 7,
   "id": "33f5be2a",
   "metadata": {
    "ExecuteTime": {
     "end_time": "2022-04-25T07:21:39.020596Z",
     "start_time": "2022-04-25T07:21:39.005596Z"
    }
   },
   "outputs": [],
   "source": [
    "#Entrenamiento"
   ]
  },
  {
   "cell_type": "code",
   "execution_count": 8,
   "id": "a2e675b3",
   "metadata": {},
   "outputs": [],
   "source": [
    "#Test"
   ]
  },
  {
   "cell_type": "markdown",
   "id": "9c2239f5",
   "metadata": {},
   "source": [
    "## Evaluación del Modelo"
   ]
  },
  {
   "cell_type": "markdown",
   "id": "ad219a0c",
   "metadata": {},
   "source": [
    "Construya un o dos párrafos con los principales hallazgos. Cómo está funcionando el modelo? Calidad en los resultados de predicción. "
   ]
  },
  {
   "cell_type": "code",
   "execution_count": null,
   "id": "28b14a2f",
   "metadata": {},
   "outputs": [],
   "source": []
  }
 ],
 "metadata": {
  "kernelspec": {
   "display_name": "Python 3 (ipykernel)",
   "language": "python",
   "name": "python3"
  },
  "language_info": {
   "codemirror_mode": {
    "name": "ipython",
    "version": 3
   },
   "file_extension": ".py",
   "mimetype": "text/x-python",
   "name": "python",
   "nbconvert_exporter": "python",
   "pygments_lexer": "ipython3",
   "version": "3.9.12"
  },
  "toc": {
   "base_numbering": 1,
   "nav_menu": {},
   "number_sections": true,
   "sideBar": true,
   "skip_h1_title": true,
   "title_cell": "Tabla de Contenido",
   "title_sidebar": "Contenido",
   "toc_cell": false,
   "toc_position": {
    "height": "calc(100% - 180px)",
    "left": "10px",
    "top": "150px",
    "width": "263.591px"
   },
   "toc_section_display": true,
   "toc_window_display": true
  }
 },
 "nbformat": 4,
 "nbformat_minor": 5
}
