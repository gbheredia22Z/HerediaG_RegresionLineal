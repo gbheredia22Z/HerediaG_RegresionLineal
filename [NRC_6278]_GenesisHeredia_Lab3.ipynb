{
 "cells": [
  {
   "cell_type": "markdown",
   "id": "8b6f603c",
   "metadata": {},
   "source": [
    "<center><h1>Técnicas de Inteligencia Artificial</header1></center>"
   ]
  },
  {
   "cell_type": "markdown",
   "id": "3eb1aaac",
   "metadata": {},
   "source": [
    "Presentado por: Génesis Belén Heredia  <br>\n",
    "Fecha: 17/07/2022"
   ]
  },
  {
   "cell_type": "markdown",
   "id": "1dec299b",
   "metadata": {
    "ExecuteTime": {
     "end_time": "2022-03-14T15:14:04.930713Z",
     "start_time": "2022-03-14T15:14:04.921682Z"
    }
   },
   "source": [
    "# Importación de librerias necesarias"
   ]
  },
  {
   "cell_type": "code",
   "execution_count": 58,
   "id": "6d1abf7a",
   "metadata": {
    "ExecuteTime": {
     "end_time": "2022-03-14T15:14:46.228059Z",
     "start_time": "2022-03-14T15:14:46.223108Z"
    }
   },
   "outputs": [],
   "source": [
    "#Para esta actividad se importarán las siguientes librerías:\n",
    "#Se implementan las librerias para obtener los datos\n",
    "\n",
    "#Se realiza la importación de la libreria pandas\n",
    "import pandas as pd\n",
    "#Se realiza la importación de la libreria numpy\n",
    "import numpy as np\n",
    "\n",
    "#Se realiza la importación de la libreria sklearn\n",
    "from sklearn.model_selection import train_test_split\n",
    "from sklearn import metrics\n",
    "\n",
    "#Se realiza la importación de la libreria statsmodels\n",
    "import statsmodels.api as smi\n",
    "\n",
    "#Se realiza la importación de la libreria necesaria para la regresión lineal\n",
    "from sklearn.linear_model import LinearRegression \n",
    "\n",
    "#Se realiza la importación de la libreria que permite realizar la grafica\n",
    "import matplotlib.pyplot as plt\n",
    "from sklearn.preprocessing import LabelEncoder"
   ]
  },
  {
   "cell_type": "markdown",
   "id": "6a44b924",
   "metadata": {},
   "source": [
    "## Cargar el Dataset"
   ]
  },
  {
   "cell_type": "code",
   "execution_count": 17,
   "id": "555c9cf2",
   "metadata": {},
   "outputs": [],
   "source": [
    "#Código para cargar Dataset\n",
    "#Se cargan los datos del Dataset mediante la libreria pandas\n",
    "FishLinear = pd.read_csv(\"Fish.csv\" )"
   ]
  },
  {
   "cell_type": "code",
   "execution_count": 20,
   "id": "3541e808",
   "metadata": {
    "scrolled": false
   },
   "outputs": [
    {
     "data": {
      "text/html": [
       "<div>\n",
       "<style scoped>\n",
       "    .dataframe tbody tr th:only-of-type {\n",
       "        vertical-align: middle;\n",
       "    }\n",
       "\n",
       "    .dataframe tbody tr th {\n",
       "        vertical-align: top;\n",
       "    }\n",
       "\n",
       "    .dataframe thead th {\n",
       "        text-align: right;\n",
       "    }\n",
       "</style>\n",
       "<table border=\"1\" class=\"dataframe\">\n",
       "  <thead>\n",
       "    <tr style=\"text-align: right;\">\n",
       "      <th></th>\n",
       "      <th>Species</th>\n",
       "      <th>Weight</th>\n",
       "      <th>Length1</th>\n",
       "      <th>Length2</th>\n",
       "      <th>Length3</th>\n",
       "      <th>Height</th>\n",
       "      <th>Width</th>\n",
       "    </tr>\n",
       "  </thead>\n",
       "  <tbody>\n",
       "    <tr>\n",
       "      <th>0</th>\n",
       "      <td>Bream</td>\n",
       "      <td>242.0</td>\n",
       "      <td>23.2</td>\n",
       "      <td>25.4</td>\n",
       "      <td>30.0</td>\n",
       "      <td>11.5200</td>\n",
       "      <td>4.0200</td>\n",
       "    </tr>\n",
       "    <tr>\n",
       "      <th>1</th>\n",
       "      <td>Bream</td>\n",
       "      <td>290.0</td>\n",
       "      <td>24.0</td>\n",
       "      <td>26.3</td>\n",
       "      <td>31.2</td>\n",
       "      <td>12.4800</td>\n",
       "      <td>4.3056</td>\n",
       "    </tr>\n",
       "    <tr>\n",
       "      <th>2</th>\n",
       "      <td>Bream</td>\n",
       "      <td>340.0</td>\n",
       "      <td>23.9</td>\n",
       "      <td>26.5</td>\n",
       "      <td>31.1</td>\n",
       "      <td>12.3778</td>\n",
       "      <td>4.6961</td>\n",
       "    </tr>\n",
       "    <tr>\n",
       "      <th>3</th>\n",
       "      <td>Bream</td>\n",
       "      <td>363.0</td>\n",
       "      <td>26.3</td>\n",
       "      <td>29.0</td>\n",
       "      <td>33.5</td>\n",
       "      <td>12.7300</td>\n",
       "      <td>4.4555</td>\n",
       "    </tr>\n",
       "    <tr>\n",
       "      <th>4</th>\n",
       "      <td>Bream</td>\n",
       "      <td>430.0</td>\n",
       "      <td>26.5</td>\n",
       "      <td>29.0</td>\n",
       "      <td>34.0</td>\n",
       "      <td>12.4440</td>\n",
       "      <td>5.1340</td>\n",
       "    </tr>\n",
       "    <tr>\n",
       "      <th>5</th>\n",
       "      <td>Bream</td>\n",
       "      <td>450.0</td>\n",
       "      <td>26.8</td>\n",
       "      <td>29.7</td>\n",
       "      <td>34.7</td>\n",
       "      <td>13.6024</td>\n",
       "      <td>4.9274</td>\n",
       "    </tr>\n",
       "    <tr>\n",
       "      <th>6</th>\n",
       "      <td>Bream</td>\n",
       "      <td>500.0</td>\n",
       "      <td>26.8</td>\n",
       "      <td>29.7</td>\n",
       "      <td>34.5</td>\n",
       "      <td>14.1795</td>\n",
       "      <td>5.2785</td>\n",
       "    </tr>\n",
       "    <tr>\n",
       "      <th>7</th>\n",
       "      <td>Bream</td>\n",
       "      <td>390.0</td>\n",
       "      <td>27.6</td>\n",
       "      <td>30.0</td>\n",
       "      <td>35.0</td>\n",
       "      <td>12.6700</td>\n",
       "      <td>4.6900</td>\n",
       "    </tr>\n",
       "    <tr>\n",
       "      <th>8</th>\n",
       "      <td>Bream</td>\n",
       "      <td>450.0</td>\n",
       "      <td>27.6</td>\n",
       "      <td>30.0</td>\n",
       "      <td>35.1</td>\n",
       "      <td>14.0049</td>\n",
       "      <td>4.8438</td>\n",
       "    </tr>\n",
       "    <tr>\n",
       "      <th>9</th>\n",
       "      <td>Bream</td>\n",
       "      <td>500.0</td>\n",
       "      <td>28.5</td>\n",
       "      <td>30.7</td>\n",
       "      <td>36.2</td>\n",
       "      <td>14.2266</td>\n",
       "      <td>4.9594</td>\n",
       "    </tr>\n",
       "    <tr>\n",
       "      <th>10</th>\n",
       "      <td>Bream</td>\n",
       "      <td>475.0</td>\n",
       "      <td>28.4</td>\n",
       "      <td>31.0</td>\n",
       "      <td>36.2</td>\n",
       "      <td>14.2628</td>\n",
       "      <td>5.1042</td>\n",
       "    </tr>\n",
       "    <tr>\n",
       "      <th>11</th>\n",
       "      <td>Bream</td>\n",
       "      <td>500.0</td>\n",
       "      <td>28.7</td>\n",
       "      <td>31.0</td>\n",
       "      <td>36.2</td>\n",
       "      <td>14.3714</td>\n",
       "      <td>4.8146</td>\n",
       "    </tr>\n",
       "    <tr>\n",
       "      <th>12</th>\n",
       "      <td>Bream</td>\n",
       "      <td>500.0</td>\n",
       "      <td>29.1</td>\n",
       "      <td>31.5</td>\n",
       "      <td>36.4</td>\n",
       "      <td>13.7592</td>\n",
       "      <td>4.3680</td>\n",
       "    </tr>\n",
       "    <tr>\n",
       "      <th>13</th>\n",
       "      <td>Bream</td>\n",
       "      <td>340.0</td>\n",
       "      <td>29.5</td>\n",
       "      <td>32.0</td>\n",
       "      <td>37.3</td>\n",
       "      <td>13.9129</td>\n",
       "      <td>5.0728</td>\n",
       "    </tr>\n",
       "    <tr>\n",
       "      <th>14</th>\n",
       "      <td>Bream</td>\n",
       "      <td>600.0</td>\n",
       "      <td>29.4</td>\n",
       "      <td>32.0</td>\n",
       "      <td>37.2</td>\n",
       "      <td>14.9544</td>\n",
       "      <td>5.1708</td>\n",
       "    </tr>\n",
       "  </tbody>\n",
       "</table>\n",
       "</div>"
      ],
      "text/plain": [
       "   Species  Weight  Length1  Length2  Length3   Height   Width\n",
       "0    Bream   242.0     23.2     25.4     30.0  11.5200  4.0200\n",
       "1    Bream   290.0     24.0     26.3     31.2  12.4800  4.3056\n",
       "2    Bream   340.0     23.9     26.5     31.1  12.3778  4.6961\n",
       "3    Bream   363.0     26.3     29.0     33.5  12.7300  4.4555\n",
       "4    Bream   430.0     26.5     29.0     34.0  12.4440  5.1340\n",
       "5    Bream   450.0     26.8     29.7     34.7  13.6024  4.9274\n",
       "6    Bream   500.0     26.8     29.7     34.5  14.1795  5.2785\n",
       "7    Bream   390.0     27.6     30.0     35.0  12.6700  4.6900\n",
       "8    Bream   450.0     27.6     30.0     35.1  14.0049  4.8438\n",
       "9    Bream   500.0     28.5     30.7     36.2  14.2266  4.9594\n",
       "10   Bream   475.0     28.4     31.0     36.2  14.2628  5.1042\n",
       "11   Bream   500.0     28.7     31.0     36.2  14.3714  4.8146\n",
       "12   Bream   500.0     29.1     31.5     36.4  13.7592  4.3680\n",
       "13   Bream   340.0     29.5     32.0     37.3  13.9129  5.0728\n",
       "14   Bream   600.0     29.4     32.0     37.2  14.9544  5.1708"
      ]
     },
     "execution_count": 20,
     "metadata": {},
     "output_type": "execute_result"
    }
   ],
   "source": [
    "#Se visualizan 10 registros\n",
    "FishLinear.head(15)"
   ]
  },
  {
   "cell_type": "markdown",
   "id": "b75cbba8",
   "metadata": {},
   "source": [
    "## Preprocesamiento del dataset. Transformaciones previas necesarias para la modelación\n"
   ]
  },
  {
   "cell_type": "markdown",
   "id": "ffc4e4a1",
   "metadata": {},
   "source": [
    "LabelEncoder"
   ]
  },
  {
   "cell_type": "code",
   "execution_count": 22,
   "id": "cd73189b",
   "metadata": {},
   "outputs": [],
   "source": [
    "#Transformación de las caracteristicas\n",
    "encoder = LabelEncoder()"
   ]
  },
  {
   "cell_type": "code",
   "execution_count": 24,
   "id": "eca3f655",
   "metadata": {},
   "outputs": [],
   "source": [
    "#Transformación de la característica \"Species\"\n",
    "FishLinear[\"Species\"] = encoder.fit_transform(FishLinear[\"Species\"])"
   ]
  },
  {
   "cell_type": "code",
   "execution_count": 25,
   "id": "9fd2a2a1",
   "metadata": {},
   "outputs": [
    {
     "data": {
      "text/html": [
       "<div>\n",
       "<style scoped>\n",
       "    .dataframe tbody tr th:only-of-type {\n",
       "        vertical-align: middle;\n",
       "    }\n",
       "\n",
       "    .dataframe tbody tr th {\n",
       "        vertical-align: top;\n",
       "    }\n",
       "\n",
       "    .dataframe thead th {\n",
       "        text-align: right;\n",
       "    }\n",
       "</style>\n",
       "<table border=\"1\" class=\"dataframe\">\n",
       "  <thead>\n",
       "    <tr style=\"text-align: right;\">\n",
       "      <th></th>\n",
       "      <th>Species</th>\n",
       "      <th>Weight</th>\n",
       "      <th>Length1</th>\n",
       "      <th>Length2</th>\n",
       "      <th>Length3</th>\n",
       "      <th>Height</th>\n",
       "      <th>Width</th>\n",
       "    </tr>\n",
       "  </thead>\n",
       "  <tbody>\n",
       "    <tr>\n",
       "      <th>0</th>\n",
       "      <td>0</td>\n",
       "      <td>242.0</td>\n",
       "      <td>23.2</td>\n",
       "      <td>25.4</td>\n",
       "      <td>30.0</td>\n",
       "      <td>11.5200</td>\n",
       "      <td>4.0200</td>\n",
       "    </tr>\n",
       "    <tr>\n",
       "      <th>1</th>\n",
       "      <td>0</td>\n",
       "      <td>290.0</td>\n",
       "      <td>24.0</td>\n",
       "      <td>26.3</td>\n",
       "      <td>31.2</td>\n",
       "      <td>12.4800</td>\n",
       "      <td>4.3056</td>\n",
       "    </tr>\n",
       "    <tr>\n",
       "      <th>2</th>\n",
       "      <td>0</td>\n",
       "      <td>340.0</td>\n",
       "      <td>23.9</td>\n",
       "      <td>26.5</td>\n",
       "      <td>31.1</td>\n",
       "      <td>12.3778</td>\n",
       "      <td>4.6961</td>\n",
       "    </tr>\n",
       "    <tr>\n",
       "      <th>3</th>\n",
       "      <td>0</td>\n",
       "      <td>363.0</td>\n",
       "      <td>26.3</td>\n",
       "      <td>29.0</td>\n",
       "      <td>33.5</td>\n",
       "      <td>12.7300</td>\n",
       "      <td>4.4555</td>\n",
       "    </tr>\n",
       "    <tr>\n",
       "      <th>4</th>\n",
       "      <td>0</td>\n",
       "      <td>430.0</td>\n",
       "      <td>26.5</td>\n",
       "      <td>29.0</td>\n",
       "      <td>34.0</td>\n",
       "      <td>12.4440</td>\n",
       "      <td>5.1340</td>\n",
       "    </tr>\n",
       "  </tbody>\n",
       "</table>\n",
       "</div>"
      ],
      "text/plain": [
       "   Species  Weight  Length1  Length2  Length3   Height   Width\n",
       "0        0   242.0     23.2     25.4     30.0  11.5200  4.0200\n",
       "1        0   290.0     24.0     26.3     31.2  12.4800  4.3056\n",
       "2        0   340.0     23.9     26.5     31.1  12.3778  4.6961\n",
       "3        0   363.0     26.3     29.0     33.5  12.7300  4.4555\n",
       "4        0   430.0     26.5     29.0     34.0  12.4440  5.1340"
      ]
     },
     "execution_count": 25,
     "metadata": {},
     "output_type": "execute_result"
    }
   ],
   "source": [
    "#Visualización de los datos transformados\n",
    "FishLinear.head()"
   ]
  },
  {
   "cell_type": "code",
   "execution_count": 26,
   "id": "248c8f35",
   "metadata": {},
   "outputs": [
    {
     "data": {
      "text/html": [
       "<div>\n",
       "<style scoped>\n",
       "    .dataframe tbody tr th:only-of-type {\n",
       "        vertical-align: middle;\n",
       "    }\n",
       "\n",
       "    .dataframe tbody tr th {\n",
       "        vertical-align: top;\n",
       "    }\n",
       "\n",
       "    .dataframe thead th {\n",
       "        text-align: right;\n",
       "    }\n",
       "</style>\n",
       "<table border=\"1\" class=\"dataframe\">\n",
       "  <thead>\n",
       "    <tr style=\"text-align: right;\">\n",
       "      <th></th>\n",
       "      <th>Species</th>\n",
       "      <th>Weight</th>\n",
       "      <th>Length1</th>\n",
       "      <th>Length2</th>\n",
       "      <th>Length3</th>\n",
       "      <th>Height</th>\n",
       "      <th>Width</th>\n",
       "    </tr>\n",
       "  </thead>\n",
       "  <tbody>\n",
       "    <tr>\n",
       "      <th>count</th>\n",
       "      <td>159.000000</td>\n",
       "      <td>159.000000</td>\n",
       "      <td>159.000000</td>\n",
       "      <td>159.000000</td>\n",
       "      <td>159.000000</td>\n",
       "      <td>159.000000</td>\n",
       "      <td>159.000000</td>\n",
       "    </tr>\n",
       "    <tr>\n",
       "      <th>mean</th>\n",
       "      <td>2.264151</td>\n",
       "      <td>398.326415</td>\n",
       "      <td>26.247170</td>\n",
       "      <td>28.415723</td>\n",
       "      <td>31.227044</td>\n",
       "      <td>8.970994</td>\n",
       "      <td>4.417486</td>\n",
       "    </tr>\n",
       "    <tr>\n",
       "      <th>std</th>\n",
       "      <td>1.704249</td>\n",
       "      <td>357.978317</td>\n",
       "      <td>9.996441</td>\n",
       "      <td>10.716328</td>\n",
       "      <td>11.610246</td>\n",
       "      <td>4.286208</td>\n",
       "      <td>1.685804</td>\n",
       "    </tr>\n",
       "    <tr>\n",
       "      <th>min</th>\n",
       "      <td>0.000000</td>\n",
       "      <td>0.000000</td>\n",
       "      <td>7.500000</td>\n",
       "      <td>8.400000</td>\n",
       "      <td>8.800000</td>\n",
       "      <td>1.728400</td>\n",
       "      <td>1.047600</td>\n",
       "    </tr>\n",
       "    <tr>\n",
       "      <th>25%</th>\n",
       "      <td>1.000000</td>\n",
       "      <td>120.000000</td>\n",
       "      <td>19.050000</td>\n",
       "      <td>21.000000</td>\n",
       "      <td>23.150000</td>\n",
       "      <td>5.944800</td>\n",
       "      <td>3.385650</td>\n",
       "    </tr>\n",
       "    <tr>\n",
       "      <th>50%</th>\n",
       "      <td>2.000000</td>\n",
       "      <td>273.000000</td>\n",
       "      <td>25.200000</td>\n",
       "      <td>27.300000</td>\n",
       "      <td>29.400000</td>\n",
       "      <td>7.786000</td>\n",
       "      <td>4.248500</td>\n",
       "    </tr>\n",
       "    <tr>\n",
       "      <th>75%</th>\n",
       "      <td>3.500000</td>\n",
       "      <td>650.000000</td>\n",
       "      <td>32.700000</td>\n",
       "      <td>35.500000</td>\n",
       "      <td>39.650000</td>\n",
       "      <td>12.365900</td>\n",
       "      <td>5.584500</td>\n",
       "    </tr>\n",
       "    <tr>\n",
       "      <th>max</th>\n",
       "      <td>6.000000</td>\n",
       "      <td>1650.000000</td>\n",
       "      <td>59.000000</td>\n",
       "      <td>63.400000</td>\n",
       "      <td>68.000000</td>\n",
       "      <td>18.957000</td>\n",
       "      <td>8.142000</td>\n",
       "    </tr>\n",
       "  </tbody>\n",
       "</table>\n",
       "</div>"
      ],
      "text/plain": [
       "          Species       Weight     Length1     Length2     Length3  \\\n",
       "count  159.000000   159.000000  159.000000  159.000000  159.000000   \n",
       "mean     2.264151   398.326415   26.247170   28.415723   31.227044   \n",
       "std      1.704249   357.978317    9.996441   10.716328   11.610246   \n",
       "min      0.000000     0.000000    7.500000    8.400000    8.800000   \n",
       "25%      1.000000   120.000000   19.050000   21.000000   23.150000   \n",
       "50%      2.000000   273.000000   25.200000   27.300000   29.400000   \n",
       "75%      3.500000   650.000000   32.700000   35.500000   39.650000   \n",
       "max      6.000000  1650.000000   59.000000   63.400000   68.000000   \n",
       "\n",
       "           Height       Width  \n",
       "count  159.000000  159.000000  \n",
       "mean     8.970994    4.417486  \n",
       "std      4.286208    1.685804  \n",
       "min      1.728400    1.047600  \n",
       "25%      5.944800    3.385650  \n",
       "50%      7.786000    4.248500  \n",
       "75%     12.365900    5.584500  \n",
       "max     18.957000    8.142000  "
      ]
     },
     "execution_count": 26,
     "metadata": {},
     "output_type": "execute_result"
    }
   ],
   "source": [
    "#Descripción del dataset\n",
    "FishLinear.describe()"
   ]
  },
  {
   "cell_type": "markdown",
   "id": "93c30410",
   "metadata": {},
   "source": [
    "## Descripción de la fuente del Dataset"
   ]
  },
  {
   "cell_type": "code",
   "execution_count": 27,
   "id": "3c8b3451",
   "metadata": {},
   "outputs": [
    {
     "name": "stdout",
     "output_type": "stream",
     "text": [
      "<class 'pandas.core.frame.DataFrame'>\n",
      "RangeIndex: 159 entries, 0 to 158\n",
      "Data columns (total 7 columns):\n",
      " #   Column   Non-Null Count  Dtype  \n",
      "---  ------   --------------  -----  \n",
      " 0   Species  159 non-null    int32  \n",
      " 1   Weight   159 non-null    float64\n",
      " 2   Length1  159 non-null    float64\n",
      " 3   Length2  159 non-null    float64\n",
      " 4   Length3  159 non-null    float64\n",
      " 5   Height   159 non-null    float64\n",
      " 6   Width    159 non-null    float64\n",
      "dtypes: float64(6), int32(1)\n",
      "memory usage: 8.2 KB\n"
     ]
    }
   ],
   "source": [
    "#Código que responde a la descripción anterior\n",
    "FishLinear.info()"
   ]
  },
  {
   "cell_type": "markdown",
   "id": "21d892da",
   "metadata": {},
   "source": [
    "***Descripción***\n",
    "\n",
    "Mediante el uso de la función info podemos deducir que existen 159 registros los cuales representan diferentes caracteristicas de los peces con mejores pesos. El dataset cuenta con 7 campos donde se puede tomar como variable objetivo ***(Weight)*** y como variables de entrada:\n",
    "\n",
    "***Variables independientes o variables de entrada X***\n",
    "\n",
    "***Species:*** Especie a la que pertenecen los peces - Variable Categórica. \n",
    "\n",
    "***Length1:*** Longitud vertical en cm del pescado - Variable Continua.\n",
    "\n",
    "***Length2:*** Longitud diagonal en cm del pescado - Variable Continua.\n",
    "\n",
    "***Length3:*** Longitud de la cruz en cm del pescado - Variable Continua.\n",
    "\n",
    "***Height:***  Altura del pescado (cm) -  Variable Continua.\n",
    "\n",
    "***Width:*** Anchura diagonal del pescado (cm) - Variable Continua.\n",
    "\n",
    "\n",
    "\n",
    "\n",
    "***Variable dependiente o variable objetivo Y***\n",
    "\n",
    "***Weight:*** Peso de los pescados (gr) - Variable Continua.\n"
   ]
  },
  {
   "cell_type": "markdown",
   "id": "7f868eab",
   "metadata": {},
   "source": [
    "## Explique el problema a resolver. \n",
    "\n",
    "Se realizará un modelo de predicción para poder realizar una estimación del mejor peso de los peces, para ello se hará uso de un dataset denominado Fish el mismo que cuenta con 159 registros para cada características. La variable objetivo para este modelo es ***Weight*** y las 6 variables independientes o de entrada que permitirán realizar la regresión lineal."
   ]
  },
  {
   "cell_type": "markdown",
   "id": "a0b719c1",
   "metadata": {},
   "source": [
    "## Caracterización del Dataset\n",
    "\n",
    "Realice una descripción de los datos con:\n",
    "\n",
    ">- Número de instancias en total.\n",
    ">- Número de atributos de entrada, su significado y tipo.\n",
    ">- Estadísticas de la variable objetivo.\n",
    ">- Estadísticas los atributos en relación con la variable objetivo.\n"
   ]
  },
  {
   "cell_type": "markdown",
   "id": "e9134778",
   "metadata": {},
   "source": [
    "***Número de instancias en total***\n"
   ]
  },
  {
   "cell_type": "code",
   "execution_count": 67,
   "id": "2f0ed5d2",
   "metadata": {},
   "outputs": [
    {
     "data": {
      "text/plain": [
       "Species    159\n",
       "Weight     159\n",
       "Length1    159\n",
       "Length2    159\n",
       "Length3    159\n",
       "Height     159\n",
       "Width      159\n",
       "dtype: int64"
      ]
     },
     "execution_count": 67,
     "metadata": {},
     "output_type": "execute_result"
    }
   ],
   "source": [
    "#Conteo de los registros del dataset\n",
    "FishLinear.count()"
   ]
  },
  {
   "cell_type": "markdown",
   "id": "a4b97f27",
   "metadata": {},
   "source": [
    "***Número de atributos de entrada, su significado y tipo***\n",
    "\n"
   ]
  },
  {
   "cell_type": "markdown",
   "id": "9a23bc7f",
   "metadata": {},
   "source": [
    "***Species:*** Especie a la que pertenecen los peces - Variable Categórica. \n",
    "\n",
    "***Length1:*** Longitud vertical en cm del pescado - Variable Continua.\n",
    "\n",
    "***Length2:*** Longitud diagonal en cm del pescado - Variable Continua.\n",
    "\n",
    "***Length3:*** Longitud de la cruz en cm del pescado - Variable Continua.\n",
    "\n",
    "***Height:***  Altura del pescado (cm) -  Variable Continua.\n",
    "\n",
    "***Width:*** Anchura diagonal del pescado (cm) - Variable Continua."
   ]
  },
  {
   "cell_type": "markdown",
   "id": "9134ed78",
   "metadata": {},
   "source": [
    "***Estadísticas de la variable objetivo***"
   ]
  },
  {
   "cell_type": "code",
   "execution_count": 30,
   "id": "8ac87150",
   "metadata": {},
   "outputs": [
    {
     "data": {
      "text/plain": [
       "<AxesSubplot:>"
      ]
     },
     "execution_count": 30,
     "metadata": {},
     "output_type": "execute_result"
    },
    {
     "data": {
      "image/png": "[encoded data removed]",
      "text/plain": [
       "<Figure size 432x288 with 1 Axes>"
      ]
     },
     "metadata": {
      "needs_background": "light"
     },
     "output_type": "display_data"
    }
   ],
   "source": [
    "#Trazo de linea habilitado\n",
    "%matplotlib inline\n",
    "#Creación de gráfico en base a la variable objetivo\n",
    "FishLinear['Weight'].hist()"
   ]
  },
  {
   "cell_type": "markdown",
   "id": "a7ab5e48",
   "metadata": {},
   "source": [
    "Mediante la gráfica implementada podemos deducir que, la variable objetivo (Weight) es efectiva y esto se debe a la curva que forma su gráfica. Siendo posible la aplicación de la regresión lineal para este modelo."
   ]
  },
  {
   "cell_type": "markdown",
   "id": "2a538ad3",
   "metadata": {},
   "source": [
    "#### Visualización la distribución de todas las variables de entrada categóricas mediante diagramas de barras"
   ]
  },
  {
   "cell_type": "code",
   "execution_count": 31,
   "id": "806a4751",
   "metadata": {},
   "outputs": [
    {
     "data": {
      "text/plain": [
       "Species      7\n",
       "Weight     101\n",
       "Length1    116\n",
       "Length2     93\n",
       "Length3    124\n",
       "Height     154\n",
       "Width      152\n",
       "dtype: int64"
      ]
     },
     "execution_count": 31,
     "metadata": {},
     "output_type": "execute_result"
    }
   ],
   "source": [
    "# Encontramos los valores unicos para identificar aquellos que son categoricos y los que son continuos\n",
    "FishLinear.nunique()"
   ]
  },
  {
   "cell_type": "markdown",
   "id": "5f6c64fb",
   "metadata": {},
   "source": [
    "Mediante la implementación de la función unique se pudo determinar 1 variable categórica. Esto se debe a que cuentan con un valor mínimo de registros y su valor es menor a 20. Por ello, se obtiene como resultado la variable **\"Species\"** con un total de 7 registros únicos."
   ]
  },
  {
   "cell_type": "code",
   "execution_count": 36,
   "id": "f8a3086e",
   "metadata": {},
   "outputs": [],
   "source": [
    "def PlotBarCharts(inpData, colsToPlot):   \n",
    "    #Trazo de linea habilitado \n",
    "    %matplotlib inline\n",
    "    \n",
    "    #Generar multiples subplots\n",
    "    fig, subPlot=plt.subplots(nrows=1, ncols=len(colsToPlot), figsize=(20,5))\n",
    "    #Agregar la leyenda del grafico\n",
    "    fig.suptitle('Bar charts of: '+ str(colsToPlot))\n",
    "    \n",
    "    #Generar escala de los graficos para cada subplot\n",
    "    for colName, plotNumber in zip(colsToPlot, range(len(colsToPlot))):\n",
    "        inpData.groupby(colName).size().plot(kind='bar',ax=subPlot[plotNumber])"
   ]
  },
  {
   "cell_type": "code",
   "execution_count": 37,
   "id": "121b5f47",
   "metadata": {},
   "outputs": [
    {
     "data": {
      "image/png": "[encoded data removed]",
      "text/plain": [
       "<Figure size 1440x360 with 2 Axes>"
      ]
     },
     "metadata": {
      "needs_background": "light"
     },
     "output_type": "display_data"
    }
   ],
   "source": [
    "#Llamando a la función PlotBarCharts\n",
    "PlotBarCharts(inpData=FishLinear, colsToPlot=['Species', 'Species'])"
   ]
  },
  {
   "cell_type": "markdown",
   "id": "08d86241",
   "metadata": {},
   "source": [
    "Mediante las gráficas obtenidas podemos deducir que al utilizar este modelo no exisitirá ningun inconveniento debido a que es util y fácil de realizar la regresión."
   ]
  },
  {
   "cell_type": "markdown",
   "id": "8a5fed51",
   "metadata": {},
   "source": [
    "#### Visualizar la distribución de todas las variables continuas usando histogramas"
   ]
  },
  {
   "cell_type": "code",
   "execution_count": 40,
   "id": "942ae09d",
   "metadata": {},
   "outputs": [
    {
     "data": {
      "text/plain": [
       "array([[<AxesSubplot:title={'center':'Length1'}>,\n",
       "        <AxesSubplot:title={'center':'Length2'}>],\n",
       "       [<AxesSubplot:title={'center':'Length3'}>,\n",
       "        <AxesSubplot:title={'center':'Height'}>],\n",
       "       [<AxesSubplot:title={'center':'Width'}>, <AxesSubplot:>]],\n",
       "      dtype=object)"
      ]
     },
     "execution_count": 40,
     "metadata": {},
     "output_type": "execute_result"
    },
    {
     "data": {
      "image/png": "[encoded data removed]",
      "text/plain": [
       "<Figure size 1296x720 with 6 Axes>"
      ]
     },
     "metadata": {
      "needs_background": "light"
     },
     "output_type": "display_data"
    }
   ],
   "source": [
    "#Histograma de variables continuas\n",
    "FishLinear.hist(['Length1','Length2', 'Length3','Height','Width'], figsize=(18,10))"
   ]
  },
  {
   "cell_type": "code",
   "execution_count": 41,
   "id": "0bab1289",
   "metadata": {},
   "outputs": [
    {
     "data": {
      "image/png": "[encoded data removed]",
      "text/plain": [
       "<Figure size 720x360 with 1 Axes>"
      ]
     },
     "metadata": {
      "needs_background": "light"
     },
     "output_type": "display_data"
    },
    {
     "data": {
      "image/png": "[encoded data removed]",
      "text/plain": [
       "<Figure size 720x360 with 1 Axes>"
      ]
     },
     "metadata": {
      "needs_background": "light"
     },
     "output_type": "display_data"
    },
    {
     "data": {
      "image/png": "[encoded data removed]",
      "text/plain": [
       "<Figure size 720x360 with 1 Axes>"
      ]
     },
     "metadata": {
      "needs_background": "light"
     },
     "output_type": "display_data"
    },
    {
     "data": {
      "image/png": "[encoded data removed]",
      "text/plain": [
       "<Figure size 720x360 with 1 Axes>"
      ]
     },
     "metadata": {
      "needs_background": "light"
     },
     "output_type": "display_data"
    },
    {
     "data": {
      "image/png": "[encoded data removed]",
      "text/plain": [
       "<Figure size 720x360 with 1 Axes>"
      ]
     },
     "metadata": {
      "needs_background": "light"
     },
     "output_type": "display_data"
    }
   ],
   "source": [
    "#Variables continuas\n",
    "ContinuousCols=['Length1','Length2', 'Length3','Height','Width']\n",
    "\n",
    "#Plotting chart para cada variable de entrada vs varible objetivo\n",
    "for predictor in ContinuousCols:\n",
    "    # Gráfica de relación entre la variable dependiente y las variables continuas\n",
    "    FishLinear.plot.scatter(x=predictor, y='Weight', figsize=(10,5), title=predictor+\" VS \"+ 'Weight')"
   ]
  },
  {
   "cell_type": "markdown",
   "id": "fdd4b21b",
   "metadata": {},
   "source": [
    "#### Preprocesamiento del dataset. Transformaciones previas necesarias para la modelación\n"
   ]
  },
  {
   "cell_type": "code",
   "execution_count": 46,
   "id": "3f6937bf",
   "metadata": {},
   "outputs": [],
   "source": [
    "#Transformación de las caracteristicas\n",
    "# Variable objetivo (y) - variables de entrada (x)\n",
    "VariablesEntrada=['Species','Length1','Length2', 'Length3','Height','Width']\n",
    "VariableObjetivo=['Weight']\n",
    "X=FishLinear[VariablesEntrada]\n",
    "y=FishLinear[VariableObjetivo]"
   ]
  },
  {
   "cell_type": "code",
   "execution_count": 47,
   "id": "6f26d21e",
   "metadata": {},
   "outputs": [],
   "source": [
    "#Estandarización del dataset\n",
    "from sklearn.preprocessing import StandardScaler\n",
    "VariablesEntradaScaler=StandardScaler()\n",
    "VariableObjetivoScaler=StandardScaler()"
   ]
  },
  {
   "cell_type": "code",
   "execution_count": 48,
   "id": "9ddcf5bc",
   "metadata": {},
   "outputs": [],
   "source": [
    "#Almacenamiento del objeto de ajuste para referencia posterior\n",
    "VariablesEntradaFit=VariablesEntradaScaler.fit(X)\n",
    "VariableObjetivoFit=VariableObjetivoScaler.fit(y)"
   ]
  },
  {
   "cell_type": "code",
   "execution_count": 49,
   "id": "d16a6d60",
   "metadata": {},
   "outputs": [],
   "source": [
    "#Generación de los valores estandarizados de X - Y\n",
    "X=VariablesEntradaFit.transform(X)\n",
    "y=VariableObjetivoFit.transform(y)"
   ]
  },
  {
   "cell_type": "markdown",
   "id": "49815fde",
   "metadata": {
    "ExecuteTime": {
     "end_time": "2022-03-14T15:56:34.366469Z",
     "start_time": "2022-03-14T15:56:34.358471Z"
    }
   },
   "source": [
    "## División del dataset en datos de entrenamiento y datos de test "
   ]
  },
  {
   "cell_type": "code",
   "execution_count": 50,
   "id": "2810bbd0",
   "metadata": {},
   "outputs": [],
   "source": [
    "#Divida los datos en un conjunto de entrenamiento y prueba\n",
    "from sklearn.model_selection import train_test_split\n",
    "X_train, X_test, y_train, y_test = train_test_split(X, y, test_size=0.3, random_state=42)"
   ]
  },
  {
   "cell_type": "code",
   "execution_count": 51,
   "id": "d2abe260",
   "metadata": {},
   "outputs": [
    {
     "name": "stdout",
     "output_type": "stream",
     "text": [
      "(111, 6)\n",
      "(111, 1)\n",
      "(48, 6)\n",
      "(48, 1)\n"
     ]
    }
   ],
   "source": [
    "#Comprobación rápida del tamaño de los conjuntos de datos de entrenamiento y prueba\n",
    "print(X_train.shape)\n",
    "print(y_train.shape)\n",
    "print(X_test.shape)\n",
    "print(y_test.shape)"
   ]
  },
  {
   "cell_type": "markdown",
   "id": "6319adad",
   "metadata": {},
   "source": [
    "## Regresión Lineal"
   ]
  },
  {
   "cell_type": "code",
   "execution_count": 52,
   "id": "d5d2b2c6",
   "metadata": {},
   "outputs": [
    {
     "data": {
      "text/plain": [
       "LinearRegression()"
      ]
     },
     "execution_count": 52,
     "metadata": {},
     "output_type": "execute_result"
    }
   ],
   "source": [
    "#Código del modelo\n",
    "#Adaptar el modelo\n",
    "lr = LinearRegression()\n",
    "lr.fit(X_train, y_train)"
   ]
  },
  {
   "cell_type": "code",
   "execution_count": 53,
   "id": "33f5be2a",
   "metadata": {
    "ExecuteTime": {
     "end_time": "2022-04-25T07:21:39.020596Z",
     "start_time": "2022-04-25T07:21:39.005596Z"
    }
   },
   "outputs": [
    {
     "name": "stdout",
     "output_type": "stream",
     "text": [
      "[[-0.89182692]\n",
      " [-1.46718663]\n",
      " [ 0.02496738]\n",
      " [ 0.06166762]\n",
      " [-0.6827645 ]\n",
      " [ 1.20759356]\n",
      " [-1.67182279]\n",
      " [-0.31056087]\n",
      " [-0.41361483]\n",
      " [ 2.18123956]\n",
      " [ 0.48490297]\n",
      " [ 1.42096081]\n",
      " [ 0.4887746 ]\n",
      " [-0.67837451]\n",
      " [ 0.77703218]\n",
      " [ 1.22356595]\n",
      " [ 1.48849083]\n",
      " [-0.21012855]\n",
      " [-0.36724375]\n",
      " [ 0.49313467]\n",
      " [-1.56791172]\n",
      " [ 0.65285282]\n",
      " [ 0.32904568]\n",
      " [ 0.22181248]\n",
      " [ 1.24289569]\n",
      " [ 1.45665787]\n",
      " [-0.52428564]\n",
      " [ 0.0589428 ]\n",
      " [-1.72857386]\n",
      " [-1.5643424 ]\n",
      " [ 0.85237968]\n",
      " [-1.11290887]\n",
      " [-1.18736434]\n",
      " [ 1.26370645]\n",
      " [-0.18082918]\n",
      " [-0.64834302]\n",
      " [-0.52852802]\n",
      " [-0.72585621]\n",
      " [-0.48692568]\n",
      " [ 1.16463719]\n",
      " [ 0.76138299]\n",
      " [ 1.05181201]\n",
      " [-1.6647603 ]\n",
      " [-0.7347164 ]\n",
      " [-0.67865419]\n",
      " [-0.93877229]\n",
      " [-0.7778203 ]\n",
      " [ 0.70339889]]\n"
     ]
    }
   ],
   "source": [
    "#Entrenamiento\n",
    "y_pred=lr.predict(X_test)\n",
    "print(y_pred)"
   ]
  },
  {
   "cell_type": "code",
   "execution_count": 55,
   "id": "a2e675b3",
   "metadata": {},
   "outputs": [
    {
     "data": {
      "text/plain": [
       "0.8854038212498819"
      ]
     },
     "execution_count": 55,
     "metadata": {},
     "output_type": "execute_result"
    }
   ],
   "source": [
    "#Test\n",
    "from sklearn.metrics import r2_score\n",
    "r2_score(y_test,y_pred)"
   ]
  },
  {
   "cell_type": "code",
   "execution_count": 62,
   "id": "f94db0d8",
   "metadata": {},
   "outputs": [
    {
     "name": "stdout",
     "output_type": "stream",
     "text": [
      "     Weight  PredictedWeight\n",
      "0 -0.897648             -1.0\n",
      "1 -1.078676             -1.0\n",
      "2 -0.555768              0.0\n",
      "3 -0.359608              0.0\n",
      "4 -0.695883             -1.0\n"
     ]
    }
   ],
   "source": [
    "# Imprimir algunos valores de muestra de predicción\n",
    "# Asignamos las variables dependientes de x_test\n",
    "TestingDataResults=pd.DataFrame(data=X_test, columns=VariablesEntrada)\n",
    "# Asignamos a la variable objetivo los valores de y_test\n",
    "TestingDataResults[VariableObjetivo]=y_test\n",
    "# Creamos una matriz con los resultados de la predicción\n",
    "TestingDataResults[('Predicted'+'Weight')]=np.round(y_pred)\n",
    "\n",
    "# Impresión de valores muestra de la predicción\n",
    "print(TestingDataResults[['Weight','Predicted' + 'Weight']].head())"
   ]
  },
  {
   "cell_type": "code",
   "execution_count": 63,
   "id": "96a0894e",
   "metadata": {},
   "outputs": [
    {
     "name": "stdout",
     "output_type": "stream",
     "text": [
      "Mean Accuracy de test data: 103.70341883630138\n",
      "Median Accuracy de test data: 110.04503330966922\n"
     ]
    }
   ],
   "source": [
    "# Cálculo del error para cada fila\n",
    "TestingDataResults['APE']=100 * ((abs(\n",
    "  TestingDataResults['Weight']-TestingDataResults['PredictedWeight']))/TestingDataResults['Weight'])\n",
    "\n",
    "# Obtenemos la media MAPE de los datos obtenidos de la prueba\n",
    "MAPE=np.mean(TestingDataResults['APE'])\n",
    "# Obtenemos la mediana de MAPE de los datos obtenidos de la prueba\n",
    "MedianMAPE=np.median(TestingDataResults['APE'])\n",
    "\n",
    "# Calculamos la precisión\n",
    "Accuracy =100 - MAPE\n",
    "# Calculamos la mediana de precisión\n",
    "MedianAccuracy=100- MedianMAPE\n",
    "# Imprimimos el promedio de precisión de los datos de prueba\n",
    "print('Mean Accuracy de test data:', Accuracy)\n",
    "# Imprimimos la mediana de precisión de los datos de prueba\n",
    "print('Median Accuracy de test data:', MedianAccuracy)"
   ]
  },
  {
   "cell_type": "code",
   "execution_count": 64,
   "id": "46345dee",
   "metadata": {},
   "outputs": [],
   "source": [
    "def Accuracy_Score(orig,pred):\n",
    "    MAPE = np.mean(100 * (np.abs(orig-pred)/orig))\n",
    "    \n",
    "    # Retorno del error porcentual absoluto medio\n",
    "    return(100-MAPE)\n"
   ]
  },
  {
   "cell_type": "code",
   "execution_count": 65,
   "id": "4225f394",
   "metadata": {},
   "outputs": [
    {
     "name": "stdout",
     "output_type": "stream",
     "text": [
      "\n",
      "Valores de precisión para la validación cruzada de 10 veces:\n",
      " [160.83074216  72.65399267 117.00386545 373.13768728 138.76126313\n",
      " 109.93815236 156.42214049  65.21933471  25.73063727 171.13161671]\n",
      "\n",
      "Precisión media final del modelo: 139.08\n"
     ]
    }
   ],
   "source": [
    "# Importamos make_scorer de la libreria sklearn.metrics\n",
    "from sklearn.metrics import make_scorer\n",
    "# Cálculo MAPE de puntuación personalizada\n",
    "custom_Scoring=make_scorer(Accuracy_Score, greater_is_better=True)\n",
    "\n",
    "# Importación de la función de validación cruzada de sklearn\n",
    "from sklearn.model_selection import cross_val_score\n",
    "\n",
    "# Ejecutar validación cruzada de 10 veces en un algoritmo dado\n",
    "# Pasar datos completos X e y porque el K-fold dividirá los datos y automáticamente elegirá entrenar/probar\n",
    "Accuracy_Values=cross_val_score(lr, X , y, cv=10, scoring=custom_Scoring)\n",
    "# Imprimimos los valores de precisión para la validación cruzada de 10 veces\n",
    "print('\\nValores de precisión para la validación cruzada de 10 veces:\\n',Accuracy_Values)\n",
    "# Imprimimos los valores p recisión media final del modelo\n",
    "print('\\nPrecisión media final del modelo:', round(Accuracy_Values.mean(),2))"
   ]
  },
  {
   "cell_type": "markdown",
   "id": "9c2239f5",
   "metadata": {},
   "source": [
    "## Evaluación del Modelo"
   ]
  },
  {
   "cell_type": "markdown",
   "id": "ad219a0c",
   "metadata": {},
   "source": [
    "Construya un o dos párrafos con los principales hallazgos. Cómo está funcionando el modelo? Calidad en los resultados de predicción. "
   ]
  },
  {
   "cell_type": "code",
   "execution_count": 66,
   "id": "28b14a2f",
   "metadata": {},
   "outputs": [
    {
     "data": {
      "text/plain": [
       "<matplotlib.collections.PathCollection at 0x18a0967c7f0>"
      ]
     },
     "execution_count": 66,
     "metadata": {},
     "output_type": "execute_result"
    },
    {
     "data": {
      "image/png": "[encoded data removed]",
      "text/plain": [
       "<Figure size 432x288 with 1 Axes>"
      ]
     },
     "metadata": {
      "needs_background": "light"
     },
     "output_type": "display_data"
    }
   ],
   "source": [
    "#Construcción de la grafica para visualizar el resultado\n",
    "plt.scatter(y_test,y_pred)"
   ]
  }
 ],
 "metadata": {
  "kernelspec": {
   "display_name": "Python 3 (ipykernel)",
   "language": "python",
   "name": "python3"
  },
  "language_info": {
   "codemirror_mode": {
    "name": "ipython",
    "version": 3
   },
   "file_extension": ".py",
   "mimetype": "text/x-python",
   "name": "python",
   "nbconvert_exporter": "python",
   "pygments_lexer": "ipython3",
   "version": "3.9.12"
  },
  "toc": {
   "base_numbering": 1,
   "nav_menu": {},
   "number_sections": true,
   "sideBar": true,
   "skip_h1_title": true,
   "title_cell": "Tabla de Contenido",
   "title_sidebar": "Contenido",
   "toc_cell": false,
   "toc_position": {
    "height": "calc(100% - 180px)",
    "left": "10px",
    "top": "150px",
    "width": "263.591px"
   },
   "toc_section_display": true,
   "toc_window_display": true
  }
 },
 "nbformat": 4,
 "nbformat_minor": 5
}
